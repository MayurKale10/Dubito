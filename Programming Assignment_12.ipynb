{
 "cells": [
  {
   "cell_type": "markdown",
   "id": "b7231b20",
   "metadata": {},
   "source": [
    "# Python Basic Programming Assignment 12\n",
    "-------------"
   ]
  },
  {
   "cell_type": "markdown",
   "id": "d2ec324d",
   "metadata": {},
   "source": [
    "### 1. Write a Python program to Extract Unique values dictionary values?"
   ]
  },
  {
   "cell_type": "code",
   "execution_count": null,
   "id": "e45ffbdb",
   "metadata": {},
   "outputs": [],
   "source": [
    "def extract_unique_values(dictionary):\n",
    "    unique_values = set()\n",
    "    for values in dictionary.values():\n",
    "        unique_values.update(values)\n",
    "    return unique_values\n",
    "\n",
    "# Get input from the user\n",
    "input_dict = eval(input(\"Enter a dictionary: \"))\n",
    "\n",
    "unique_values = extract_unique_values(input_dict)\n",
    "\n",
    "print(\"Unique values from dictionary values:\", unique_values)\n"
   ]
  },
  {
   "cell_type": "markdown",
   "id": "203bcbc3",
   "metadata": {},
   "source": [
    "### 2. Write a Python program to find the sum of all items in a dictionary?"
   ]
  },
  {
   "cell_type": "code",
   "execution_count": null,
   "id": "ec37a931",
   "metadata": {},
   "outputs": [],
   "source": [
    "def sum_of_dictionary_items(dictionary):\n",
    "    total_sum = sum(dictionary.values())\n",
    "    return total_sum\n",
    "\n",
    "# Get input from the user\n",
    "input_dict = eval(input(\"Enter a dictionary with numeric values: \"))\n",
    "\n",
    "total_sum = sum_of_dictionary_items(input_dict)\n",
    "\n",
    "print(\"Sum of all items in the dictionary:\", total_sum)\n"
   ]
  },
  {
   "cell_type": "markdown",
   "id": "edfbc682",
   "metadata": {},
   "source": [
    "### 3. Write a Python program to Merging two Dictionaries?"
   ]
  },
  {
   "cell_type": "code",
   "execution_count": null,
   "id": "08276980",
   "metadata": {},
   "outputs": [],
   "source": [
    "def merge_dictionaries(dict1, dict2):\n",
    "    merged_dict = {**dict1, **dict2}\n",
    "    return merged_dict\n",
    "\n",
    "# Get input from the user\n",
    "input_dict1 = eval(input(\"Enter the first dictionary: \"))\n",
    "input_dict2 = eval(input(\"Enter the second dictionary: \"))\n",
    "\n",
    "merged_dict = merge_dictionaries(input_dict1, input_dict2)\n",
    "\n",
    "print(\"Merged dictionary:\", merged_dict)\n"
   ]
  },
  {
   "cell_type": "markdown",
   "id": "62eaf687",
   "metadata": {},
   "source": [
    "### 4. Write a Python program to convert key-values list to flat dictionary?"
   ]
  },
  {
   "cell_type": "code",
   "execution_count": null,
   "id": "08739148",
   "metadata": {},
   "outputs": [],
   "source": [
    "def convert_to_flat_dictionary(key_value_list):\n",
    "    flat_dict = {}\n",
    "    for key, value in key_value_list:\n",
    "        flat_dict[key] = value\n",
    "    return flat_dict\n",
    "\n",
    "# Get input from the user\n",
    "key_value_list = eval(input(\"Enter a list of key-value pairs [(key1, value1), (key2, value2), ...]: \"))\n",
    "\n",
    "flat_dictionary = convert_to_flat_dictionary(key_value_list)\n",
    "\n",
    "print(\"Flat dictionary:\", flat_dictionary)\n"
   ]
  },
  {
   "cell_type": "markdown",
   "id": "fcc5015f",
   "metadata": {},
   "source": [
    "### 5. Write a Python program to insertion at the beginning in OrderedDict?"
   ]
  },
  {
   "cell_type": "code",
   "execution_count": null,
   "id": "99d8d687",
   "metadata": {},
   "outputs": [],
   "source": [
    "from collections import OrderedDict\n",
    "\n",
    "def insert_at_beginning(ordered_dict, key, value):\n",
    "    ordered_dict.move_to_end(key, last=False)\n",
    "    ordered_dict[key] = value\n",
    "\n",
    "# Create an OrderedDict\n",
    "ordered_dict = OrderedDict([('a', 1), ('b', 2), ('c', 3)])\n",
    "\n",
    "# Get input for new key-value pair\n",
    "new_key = input(\"Enter the new key: \")\n",
    "new_value = input(\"Enter the new value: \")\n",
    "\n",
    "insert_at_beginning(ordered_dict, new_key, new_value)\n",
    "\n",
    "print(\"OrderedDict after insertion:\", ordered_dict)\n"
   ]
  },
  {
   "cell_type": "markdown",
   "id": "5978c9ab",
   "metadata": {},
   "source": [
    "### 6. Write a Python program to check order of character in string using OrderedDict()?"
   ]
  },
  {
   "cell_type": "code",
   "execution_count": null,
   "id": "ce478d3f",
   "metadata": {},
   "outputs": [],
   "source": [
    "from collections import OrderedDict\n",
    "\n",
    "def check_order(input_str, pattern):\n",
    "    char_index = OrderedDict.fromkeys(pattern)\n",
    "    index = 0\n",
    "\n",
    "    for char in input_str:\n",
    "        if char in char_index:\n",
    "            if char_index[char] == index:\n",
    "                index += 1\n",
    "                if index == len(char_index):\n",
    "                    return True\n",
    "\n",
    "    return False\n",
    "\n",
    "# Get input from the user\n",
    "input_str = input(\"Enter a string: \")\n",
    "pattern = input(\"Enter the pattern to check: \")\n",
    "\n",
    "if check_order(input_str, pattern):\n",
    "    print(\"The characters in the pattern appear in order in the string.\")\n",
    "else:\n",
    "    print(\"The characters in the pattern do not appear in order in the string.\")\n"
   ]
  },
  {
   "cell_type": "markdown",
   "id": "f330da77",
   "metadata": {},
   "source": [
    "### 7. Write a Python program to sort Python Dictionaries by Key or Value?"
   ]
  },
  {
   "cell_type": "code",
   "execution_count": null,
   "id": "0d15ce1f",
   "metadata": {},
   "outputs": [],
   "source": [
    "def sort_dictionary(input_dict, sort_by='key'):\n",
    "    if sort_by == 'key':\n",
    "        sorted_dict = dict(sorted(input_dict.items()))\n",
    "    elif sort_by == 'value':\n",
    "        sorted_dict = dict(sorted(input_dict.items(), key=lambda item: item[1]))\n",
    "    else:\n",
    "        raise ValueError(\"Invalid sorting option. Use 'key' or 'value'.\")\n",
    "\n",
    "    return sorted_dict\n",
    "\n",
    "# Get input from the user\n",
    "input_dict = eval(input(\"Enter a dictionary: \"))\n",
    "sorting_option = input(\"Enter sorting option ('key' or 'value'): \")\n",
    "\n",
    "sorted_dictionary = sort_dictionary(input_dict, sorting_option)\n",
    "\n",
    "print(\"Sorted dictionary:\", sorted_dictionary)\n"
   ]
  }
 ],
 "metadata": {
  "kernelspec": {
   "display_name": "Python 3 (ipykernel)",
   "language": "python",
   "name": "python3"
  },
  "language_info": {
   "codemirror_mode": {
    "name": "ipython",
    "version": 3
   },
   "file_extension": ".py",
   "mimetype": "text/x-python",
   "name": "python",
   "nbconvert_exporter": "python",
   "pygments_lexer": "ipython3",
   "version": "3.9.12"
  }
 },
 "nbformat": 4,
 "nbformat_minor": 5
}
