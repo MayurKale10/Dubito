{
 "cells": [
  {
   "cell_type": "markdown",
   "id": "9bf47949",
   "metadata": {},
   "source": [
    "## Python Basic Programming Assignment - 14\n",
    "---------------------"
   ]
  },
  {
   "cell_type": "markdown",
   "id": "a8074819",
   "metadata": {},
   "source": [
    "### 1. Define a class with a generator which can iterate the numbers, which are divisible by 7, between a given range 0 and n."
   ]
  },
  {
   "cell_type": "code",
   "execution_count": null,
   "id": "e9637c3e",
   "metadata": {},
   "outputs": [],
   "source": [
    "class DivisibleBySevenGenerator:\n",
    "    def __init__(self, n):\n",
    "        self.n = n\n",
    "    \n",
    "    def generate_divisible_by_seven(self):\n",
    "        for num in range(self.n + 1):\n",
    "            if num % 7 == 0:\n",
    "                yield num\n",
    "\n",
    "# Get input from the user\n",
    "n = int(input(\"Enter the value of n: \"))\n",
    "\n",
    "generator = DivisibleBySevenGenerator(n)\n",
    "\n",
    "print(\"Numbers divisible by 7:\")\n",
    "for num in generator.generate_divisible_by_seven():\n",
    "    print(num, end=' ')\n"
   ]
  },
  {
   "cell_type": "markdown",
   "id": "8127371b",
   "metadata": {},
   "source": [
    "\n",
    "### 2. Write a program to compute the frequency of the words from the input. The output should output after sorting the key alphanumerically."
   ]
  },
  {
   "cell_type": "code",
   "execution_count": null,
   "id": "6b2cc192",
   "metadata": {},
   "outputs": [],
   "source": [
    "def compute_word_frequency(input_str):\n",
    "    words = input_str.split()\n",
    "    word_frequency = {}\n",
    "\n",
    "    for word in words:\n",
    "        word_frequency[word] = word_frequency.get(word, 0) + 1\n",
    "\n",
    "    return word_frequency\n",
    "\n",
    "# Get input from the user\n",
    "input_text = input(\"Enter a sentence: \")\n",
    "\n",
    "word_frequency = compute_word_frequency(input_text)\n",
    "\n",
    "sorted_word_frequency = sorted(word_frequency.items())\n",
    "\n",
    "print(\"Word frequency:\")\n",
    "for word, frequency in sorted_word_frequency:\n",
    "    print(f\"{word}: {frequency}\")\n"
   ]
  },
  {
   "cell_type": "markdown",
   "id": "4e869c3c",
   "metadata": {},
   "source": [
    "\n",
    "### 3. Define a class Person and its two child classes: Male and Female. All classes have a method \"getGender\" which can print \"Male\" for Male class and \"Female\" for Female class."
   ]
  },
  {
   "cell_type": "code",
   "execution_count": null,
   "id": "e45cab8e",
   "metadata": {},
   "outputs": [],
   "source": [
    "class Person:\n",
    "    def getGender(self):\n",
    "        return \"Unknown\"\n",
    "\n",
    "class Male(Person):\n",
    "    def getGender(self):\n",
    "        return \"Male\"\n",
    "\n",
    "class Female(Person):\n",
    "    def getGender(self):\n",
    "        return \"Female\"\n",
    "\n",
    "# Create instances of the child classes\n",
    "male_person = Male()\n",
    "female_person = Female()\n",
    "\n",
    "# Call the getGender method on instances\n",
    "print(\"Male's gender:\", male_person.getGender())\n",
    "print(\"Female's gender:\", female_person.getGender())\n"
   ]
  },
  {
   "cell_type": "markdown",
   "id": "58b5940f",
   "metadata": {},
   "source": [
    "\n",
    "### 4. Please write a program to generate all sentences where subject is in [\"I\", \"You\"] and verb is in ['Play', \"Love\"] and the object is in [\"Hockey\",\"Football\"]."
   ]
  },
  {
   "cell_type": "code",
   "execution_count": null,
   "id": "fe3ad7ea",
   "metadata": {},
   "outputs": [],
   "source": [
    "subjects = [\"I\", \"You\"]\n",
    "verbs = ['Play', \"Love\"]\n",
    "objects = [\"Hockey\", \"Football\"]\n",
    "\n",
    "sentences = []\n",
    "\n",
    "for subject in subjects:\n",
    "    for verb in verbs:\n",
    "        for obj in objects:\n",
    "            sentence = f\"{subject} {verb} {obj}.\"\n",
    "            sentences.append(sentence)\n",
    "\n",
    "for sentence in sentences:\n",
    "    print(sentence)\n"
   ]
  },
  {
   "cell_type": "markdown",
   "id": "0ddf4f59",
   "metadata": {},
   "source": [
    "\n",
    "### 5. Please write a program to compress and decompress the string \"hello world!hello world!hello world!hello world!\""
   ]
  },
  {
   "cell_type": "code",
   "execution_count": null,
   "id": "4acf5ecb",
   "metadata": {},
   "outputs": [],
   "source": [
    "import zlib\n",
    "\n",
    "original_string = \"hello world!hello world!hello world!hello world!\"\n",
    "\n",
    "# Compress the string\n",
    "compressed_data = zlib.compress(original_string.encode())\n",
    "print(\"Compressed data:\", compressed_data)\n",
    "\n",
    "# Decompress the compressed data\n",
    "decompressed_data = zlib.decompress(compressed_data).decode()\n",
    "print(\"Decompressed data:\", decompressed_data)\n"
   ]
  },
  {
   "cell_type": "markdown",
   "id": "2aeb595b",
   "metadata": {},
   "source": [
    "\n",
    "### 6. Please write a binary search function which searches an item in a sorted list. The function should return the index of element to be searched in the list."
   ]
  },
  {
   "cell_type": "code",
   "execution_count": null,
   "id": "7d5b2567",
   "metadata": {},
   "outputs": [],
   "source": [
    "def binary_search(sorted_list, target):\n",
    "    left, right = 0, len(sorted_list) - 1\n",
    "\n",
    "    while left <= right:\n",
    "        mid = (left + right) // 2\n",
    "        mid_value = sorted_list[mid]\n",
    "\n",
    "        if mid_value == target:\n",
    "            return mid\n",
    "        elif mid_value < target:\n",
    "            left = mid + 1\n",
    "        else:\n",
    "            right = mid - 1\n",
    "\n",
    "    return -1  # Element not found\n",
    "\n",
    "# Example usage\n",
    "sorted_list = [1, 3, 5, 7, 9, 11, 13, 15, 17, 19]\n",
    "target = 11\n",
    "\n",
    "index = binary_search(sorted_list, target)\n",
    "\n",
    "if index != -1:\n",
    "    print(f\"Element {target} found at index {index}\")\n",
    "else:\n",
    "    print(f\"Element {target} not found in the list\")\n"
   ]
  }
 ],
 "metadata": {
  "kernelspec": {
   "display_name": "Python 3 (ipykernel)",
   "language": "python",
   "name": "python3"
  },
  "language_info": {
   "codemirror_mode": {
    "name": "ipython",
    "version": 3
   },
   "file_extension": ".py",
   "mimetype": "text/x-python",
   "name": "python",
   "nbconvert_exporter": "python",
   "pygments_lexer": "ipython3",
   "version": "3.9.12"
  }
 },
 "nbformat": 4,
 "nbformat_minor": 5
}
