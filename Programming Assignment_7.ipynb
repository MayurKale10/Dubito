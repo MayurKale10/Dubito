{
 "cells": [
  {
   "cell_type": "markdown",
   "id": "35297a20",
   "metadata": {},
   "source": [
    "## Programming Basic Assignment 7"
   ]
  },
  {
   "cell_type": "markdown",
   "id": "27349114",
   "metadata": {},
   "source": [
    "### 1. Write a Python Program to find sum of array?"
   ]
  },
  {
   "cell_type": "code",
   "execution_count": 5,
   "id": "43888cfb",
   "metadata": {},
   "outputs": [
    {
     "name": "stdout",
     "output_type": "stream",
     "text": [
      "Enter array elements separated by spaces: 1 2 3 4 5 6\n",
      "The sum of the array elements is 21.\n"
     ]
    }
   ],
   "source": [
    "def array_sum(arr):\n",
    "    total = 0\n",
    "    for num in arr:\n",
    "        total += num\n",
    "    return total\n",
    "\n",
    "# Get input from the user\n",
    "array_str = input(\"Enter array elements separated by spaces: \")\n",
    "array = list(map(int, array_str.split()))\n",
    "\n",
    "sum_result = array_sum(array)\n",
    "print(f\"The sum of the array elements is {sum_result}.\")\n"
   ]
  },
  {
   "cell_type": "markdown",
   "id": "171a980d",
   "metadata": {},
   "source": [
    "### 2. Write a Python Program to find largest element in an array?\n"
   ]
  },
  {
   "cell_type": "code",
   "execution_count": 4,
   "id": "4106eb3b",
   "metadata": {},
   "outputs": [
    {
     "name": "stdout",
     "output_type": "stream",
     "text": [
      "Enter array elements separated by spaces: 1 2 3 4 5 6\n",
      "The largest element in the array is 6.\n"
     ]
    }
   ],
   "source": [
    "def find_largest_element(arr):\n",
    "    if not arr:\n",
    "        return None\n",
    "    \n",
    "    largest = arr[0]\n",
    "    for num in arr:\n",
    "        if num > largest:\n",
    "            largest = num\n",
    "    return largest\n",
    "\n",
    "# Get input from the user\n",
    "array_str = input(\"Enter array elements separated by spaces: \")\n",
    "array = list(map(int, array_str.split()))\n",
    "\n",
    "largest_element = find_largest_element(array)\n",
    "\n",
    "if largest_element is None:\n",
    "    print(\"Array is empty.\")\n",
    "else:\n",
    "    print(f\"The largest element in the array is {largest_element}.\")\n"
   ]
  },
  {
   "cell_type": "markdown",
   "id": "21613246",
   "metadata": {},
   "source": [
    "### 3. Write a Python Program for array rotation?"
   ]
  },
  {
   "cell_type": "code",
   "execution_count": 3,
   "id": "3d800d24",
   "metadata": {},
   "outputs": [
    {
     "name": "stdout",
     "output_type": "stream",
     "text": [
      "Enter array elements separated by spaces: 1 2 3 4 5 6\n",
      "Enter the number of positions to rotate by: 3\n",
      "The rotated array: [4, 5, 6, 1, 2, 3]\n"
     ]
    }
   ],
   "source": [
    "def rotate_array(arr, k):\n",
    "    n = len(arr)\n",
    "    k = k % n  # Handle cases where k is greater than array length\n",
    "    return arr[-k:] + arr[:-k]\n",
    "\n",
    "# Get input from the user\n",
    "array_str = input(\"Enter array elements separated by spaces: \")\n",
    "array = list(map(int, array_str.split()))\n",
    "\n",
    "rotate_by = int(input(\"Enter the number of positions to rotate by: \"))\n",
    "\n",
    "rotated_array = rotate_array(array, rotate_by)\n",
    "print(f\"The rotated array: {rotated_array}\")\n"
   ]
  },
  {
   "cell_type": "markdown",
   "id": "3e52d939",
   "metadata": {},
   "source": [
    "### 4. Write a Python Program to Split the array and add the first part to the end?"
   ]
  },
  {
   "cell_type": "code",
   "execution_count": 2,
   "id": "506dd398",
   "metadata": {},
   "outputs": [
    {
     "name": "stdout",
     "output_type": "stream",
     "text": [
      "Enter array elements separated by spaces: 1 2 3 4 5 6\n",
      "Enter the index at which to split the array: 3\n",
      "The modified array: [4, 5, 6, 1, 2, 3]\n"
     ]
    }
   ],
   "source": [
    "def split_and_add(arr, split_index):\n",
    "    if split_index >= len(arr):\n",
    "        return arr\n",
    "    \n",
    "    return arr[split_index:] + arr[:split_index]\n",
    "\n",
    "# Get input from the user\n",
    "array_str = input(\"Enter array elements separated by spaces: \")\n",
    "array = list(map(int, array_str.split()))\n",
    "\n",
    "split_index = int(input(\"Enter the index at which to split the array: \"))\n",
    "\n",
    "result_array = split_and_add(array, split_index)\n",
    "print(f\"The modified array: {result_array}\")\n"
   ]
  },
  {
   "cell_type": "markdown",
   "id": "aa375779",
   "metadata": {},
   "source": [
    "### 5. Write a Python Program to check if given array is Monotonic?"
   ]
  },
  {
   "cell_type": "code",
   "execution_count": 1,
   "id": "574273be",
   "metadata": {},
   "outputs": [
    {
     "name": "stdout",
     "output_type": "stream",
     "text": [
      "Enter array elements separated by spaces: 1 2 3 4 5 6\n",
      "The given array is monotonic.\n"
     ]
    }
   ],
   "source": [
    "def is_monotonic(arr):\n",
    "    increasing = decreasing = True\n",
    "    \n",
    "    for i in range(1, len(arr)):\n",
    "        if arr[i] > arr[i - 1]:\n",
    "            decreasing = False\n",
    "        elif arr[i] < arr[i - 1]:\n",
    "            increasing = False\n",
    "    \n",
    "    return increasing or decreasing\n",
    "\n",
    "# Get input from the user\n",
    "array_str = input(\"Enter array elements separated by spaces: \")\n",
    "array = list(map(int, array_str.split()))\n",
    "\n",
    "if is_monotonic(array):\n",
    "    print(\"The given array is monotonic.\")\n",
    "else:\n",
    "    print(\"The given array is not monotonic.\")\n"
   ]
  },
  {
   "cell_type": "code",
   "execution_count": null,
   "id": "404de11f",
   "metadata": {},
   "outputs": [],
   "source": []
  }
 ],
 "metadata": {
  "kernelspec": {
   "display_name": "Python 3 (ipykernel)",
   "language": "python",
   "name": "python3"
  },
  "language_info": {
   "codemirror_mode": {
    "name": "ipython",
    "version": 3
   },
   "file_extension": ".py",
   "mimetype": "text/x-python",
   "name": "python",
   "nbconvert_exporter": "python",
   "pygments_lexer": "ipython3",
   "version": "3.9.12"
  }
 },
 "nbformat": 4,
 "nbformat_minor": 5
}
