{
 "cells": [
  {
   "cell_type": "markdown",
   "id": "62fd0c8e",
   "metadata": {},
   "source": [
    "# Python Programming Basic Assignment 13"
   ]
  },
  {
   "cell_type": "markdown",
   "id": "ed4a3c0b",
   "metadata": {},
   "source": [
    "\n",
    "### 1. Write a program that calculates and prints the value according to the given formula:\n",
    "Q = Square root of [(2 C D)/H]\n",
    "\n",
    "Following are the fixed values of C and H:\n",
    "\n",
    "C is 50. H is 30.\n",
    "\n",
    "D is the variable whose values should be input to your program in a comma-separated sequence.\n",
    "\n",
    "Example\n",
    "\n",
    "Let us assume the following comma separated input sequence is given to the program:\n",
    "\n",
    "100,150,180\n",
    "\n",
    "The output of the program should be:\n",
    "\n",
    "18,22,24"
   ]
  },
  {
   "cell_type": "code",
   "execution_count": 2,
   "id": "c0291843",
   "metadata": {},
   "outputs": [
    {
     "name": "stdout",
     "output_type": "stream",
     "text": [
      "Enter comma-separated values of D: 100,150,180\n",
      "Output: 18,22,24\n"
     ]
    }
   ],
   "source": [
    "import math\n",
    "\n",
    "C = 50\n",
    "H = 30\n",
    "\n",
    "def calculate_value(D):\n",
    "    Q = int(math.sqrt((2 * C * D) / H))\n",
    "    return Q\n",
    "\n",
    "# Get input from the user\n",
    "input_values = input(\"Enter comma-separated values of D: \")\n",
    "D_values = input_values.split(',')\n",
    "\n",
    "result_values = [str(calculate_value(int(D))) for D in D_values]\n",
    "\n",
    "result = ','.join(result_values)\n",
    "print(\"Output:\", result)\n"
   ]
  },
  {
   "cell_type": "markdown",
   "id": "ed37b6ed",
   "metadata": {},
   "source": [
    "### 2. Write a program which takes 2 digits, X,Y as input and generates a 2-dimensional array. The element value in the i-th row and j-th column of the array should be i*j."
   ]
  },
  {
   "cell_type": "code",
   "execution_count": null,
   "id": "8440df27",
   "metadata": {},
   "outputs": [],
   "source": [
    "def generate_2d_array(rows, columns):\n",
    "    array_2d = [[i * j for j in range(columns)] for i in range(rows)]\n",
    "    return array_2d\n",
    "\n",
    "# Get input from the user\n",
    "X = int(input(\"Enter the number of rows (X): \"))\n",
    "Y = int(input(\"Enter the number of columns (Y): \"))\n",
    "\n",
    "result_array = generate_2d_array(X, Y)\n",
    "\n",
    "print(\"2D array:\")\n",
    "for row in result_array:\n",
    "    print(row)\n"
   ]
  },
  {
   "cell_type": "markdown",
   "id": "bc7f977b",
   "metadata": {},
   "source": [
    "### 3. Write a program that accepts a comma separated sequence of words as input and prints the words in a comma-separated sequence after sorting them alphabetically."
   ]
  },
  {
   "cell_type": "code",
   "execution_count": null,
   "id": "abb27cdc",
   "metadata": {},
   "outputs": [],
   "source": [
    "def sort_words(input_str):\n",
    "    words = input_str.split(',')\n",
    "    sorted_words = sorted(words)\n",
    "    return sorted_words\n",
    "\n",
    "# Get input from the user\n",
    "input_sequence = input(\"Enter a comma-separated sequence of words: \")\n",
    "\n",
    "sorted_sequence = sort_words(input_sequence)\n",
    "\n",
    "result = ','.join(sorted_sequence)\n",
    "print(\"Sorted words:\", result)\n"
   ]
  },
  {
   "cell_type": "markdown",
   "id": "171c3d90",
   "metadata": {},
   "source": [
    "### 4. Write a program that accepts a sequence of whitespace separated words as input and prints the words after removing all duplicate words and sorting them alphanumerically."
   ]
  },
  {
   "cell_type": "code",
   "execution_count": null,
   "id": "b231d126",
   "metadata": {},
   "outputs": [],
   "source": [
    "def process_words(input_str):\n",
    "    words = input_str.split()\n",
    "    unique_words = list(set(words))\n",
    "    sorted_unique_words = sorted(unique_words)\n",
    "    return sorted_unique_words\n",
    "\n",
    "# Get input from the user\n",
    "input_sequence = input(\"Enter a sequence of whitespace-separated words: \")\n",
    "\n",
    "processed_words = process_words(input_sequence)\n",
    "\n",
    "result = ' '.join(processed_words)\n",
    "print(\"Processed words:\", result)\n"
   ]
  },
  {
   "cell_type": "markdown",
   "id": "88d25c49",
   "metadata": {},
   "source": [
    "### 5. Write a program that accepts a sentence and calculate the number of letters and digits."
   ]
  },
  {
   "cell_type": "code",
   "execution_count": null,
   "id": "3cfe60c7",
   "metadata": {},
   "outputs": [],
   "source": [
    "def count_letters_digits(input_str):\n",
    "    num_letters = sum(c.isalpha() for c in input_str)\n",
    "    num_digits = sum(c.isdigit() for c in input_str)\n",
    "    return num_letters, num_digits\n",
    "\n",
    "# Get input from the user\n",
    "input_sentence = input(\"Enter a sentence: \")\n",
    "\n",
    "letters, digits = count_letters_digits(input_sentence)\n",
    "\n",
    "print(\"Number of letters:\", letters)\n",
    "print(\"Number of digits:\", digits)\n"
   ]
  },
  {
   "cell_type": "markdown",
   "id": "9695c4ca",
   "metadata": {},
   "source": [
    "### 6. A website requires the users to input username and password to register. Write a program to check the validity of password input by users."
   ]
  },
  {
   "cell_type": "code",
   "execution_count": 3,
   "id": "7e2695fe",
   "metadata": {},
   "outputs": [
    {
     "name": "stdout",
     "output_type": "stream",
     "text": [
      "Enter a password: mayurkale\n",
      "Password is not valid.\n"
     ]
    }
   ],
   "source": [
    "import re\n",
    "\n",
    "def is_valid_password(password):\n",
    "    if len(password) < 8:\n",
    "        return False\n",
    "\n",
    "    if not any(c.isupper() for c in password):\n",
    "        return False\n",
    "\n",
    "    if not any(c.islower() for c in password):\n",
    "        return False\n",
    "\n",
    "    if not any(c.isdigit() for c in password):\n",
    "        return False\n",
    "\n",
    "    return True\n",
    "\n",
    "# Get password input from the user\n",
    "password = input(\"Enter a password: \")\n",
    "\n",
    "if is_valid_password(password):\n",
    "    print(\"Password is valid.\")\n",
    "else:\n",
    "    print(\"Password is not valid.\")\n"
   ]
  },
  {
   "cell_type": "code",
   "execution_count": null,
   "id": "95ab222f",
   "metadata": {},
   "outputs": [],
   "source": []
  }
 ],
 "metadata": {
  "kernelspec": {
   "display_name": "Python 3 (ipykernel)",
   "language": "python",
   "name": "python3"
  },
  "language_info": {
   "codemirror_mode": {
    "name": "ipython",
    "version": 3
   },
   "file_extension": ".py",
   "mimetype": "text/x-python",
   "name": "python",
   "nbconvert_exporter": "python",
   "pygments_lexer": "ipython3",
   "version": "3.9.12"
  }
 },
 "nbformat": 4,
 "nbformat_minor": 5
}
