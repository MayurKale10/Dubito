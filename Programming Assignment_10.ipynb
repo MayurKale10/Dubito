{
 "cells": [
  {
   "cell_type": "markdown",
   "id": "3dcb940f",
   "metadata": {},
   "source": [
    "## Python Basic Programming Assignment 10"
   ]
  },
  {
   "cell_type": "markdown",
   "id": "6720790a",
   "metadata": {},
   "source": [
    "### 1. Write a Python program to find sum of elements in list?"
   ]
  },
  {
   "cell_type": "code",
   "execution_count": null,
   "id": "69e1d953",
   "metadata": {},
   "outputs": [],
   "source": [
    "def sum_of_elements(lst):\n",
    "    total = 0\n",
    "    for num in lst:\n",
    "        total += num\n",
    "    return total\n",
    "\n",
    "# Get input from the user\n",
    "input_str = input(\"Enter a list of numbers separated by spaces: \")\n",
    "num_list = list(map(int, input_str.split()))\n",
    "\n",
    "result = sum_of_elements(num_list)\n",
    "print(f\"The sum of elements in the list is {result}.\")\n"
   ]
  },
  {
   "cell_type": "markdown",
   "id": "fe1137c3",
   "metadata": {},
   "source": [
    "### 2. Write a Python program to  Multiply all numbers in the list?"
   ]
  },
  {
   "cell_type": "code",
   "execution_count": null,
   "id": "e8187b6a",
   "metadata": {},
   "outputs": [],
   "source": [
    "def multiply_elements(lst):\n",
    "    result = 1\n",
    "    for num in lst:\n",
    "        result *= num\n",
    "    return result\n",
    "\n",
    "# Get input from the user\n",
    "input_str = input(\"Enter a list of numbers separated by spaces: \")\n",
    "num_list = list(map(int, input_str.split()))\n",
    "\n",
    "result = multiply_elements(num_list)\n",
    "print(f\"The product of all numbers in the list is {result}.\")\n"
   ]
  },
  {
   "cell_type": "markdown",
   "id": "078681db",
   "metadata": {},
   "source": [
    "### 3. Write a Python program to find smallest number in a list?"
   ]
  },
  {
   "cell_type": "code",
   "execution_count": null,
   "id": "f7382966",
   "metadata": {},
   "outputs": [],
   "source": [
    "def find_smallest_number(lst):\n",
    "    if not lst:\n",
    "        return None\n",
    "    \n",
    "    smallest = lst[0]\n",
    "    for num in lst:\n",
    "        if num < smallest:\n",
    "            smallest = num\n",
    "    return smallest\n",
    "\n",
    "# Get input from the user\n",
    "input_str = input(\"Enter a list of numbers separated by spaces: \")\n",
    "num_list = list(map(int, input_str.split()))\n",
    "\n",
    "smallest_number = find_smallest_number(num_list)\n",
    "\n",
    "if smallest_number is None:\n",
    "    print(\"The list is empty.\")\n",
    "else:\n",
    "    print(f\"The smallest number in the list is {smallest_number}.\")\n"
   ]
  },
  {
   "cell_type": "markdown",
   "id": "12b04397",
   "metadata": {},
   "source": [
    "### 4. Write a Python program to find largest number in a list?"
   ]
  },
  {
   "cell_type": "code",
   "execution_count": null,
   "id": "46053d65",
   "metadata": {},
   "outputs": [],
   "source": [
    "def find_largest_number(lst):\n",
    "    if not lst:\n",
    "        return None\n",
    "    \n",
    "    largest = lst[0]\n",
    "    for num in lst:\n",
    "        if num > largest:\n",
    "            largest = num\n",
    "    return largest\n",
    "\n",
    "# Get input from the user\n",
    "input_str = input(\"Enter a list of numbers separated by spaces: \")\n",
    "num_list = list(map(int, input_str.split()))\n",
    "\n",
    "largest_number = find_largest_number(num_list)\n",
    "\n",
    "if largest_number is None:\n",
    "    print(\"The list is empty.\")\n",
    "else:\n",
    "    print(f\"The largest number in the list is {largest_number}.\")\n"
   ]
  },
  {
   "cell_type": "markdown",
   "id": "86442b51",
   "metadata": {},
   "source": [
    "### 5. Write a Python program to find second largest number in a list?"
   ]
  },
  {
   "cell_type": "code",
   "execution_count": null,
   "id": "901a9339",
   "metadata": {},
   "outputs": [],
   "source": [
    "def find_second_largest_number(lst):\n",
    "    if len(lst) < 2:\n",
    "        return None\n",
    "    \n",
    "    largest = second_largest = float('-inf')\n",
    "    \n",
    "    for num in lst:\n",
    "        if num > largest:\n",
    "            second_largest = largest\n",
    "            largest = num\n",
    "        elif num > second_largest and num != largest:\n",
    "            second_largest = num\n",
    "    \n",
    "    return second_largest\n",
    "\n",
    "# Get input from the user\n",
    "input_str = input(\"Enter a list of numbers separated by spaces: \")\n",
    "num_list = list(map(int, input_str.split()))\n",
    "\n",
    "second_largest_number = find_second_largest_number(num_list)\n",
    "\n",
    "if second_largest_number is None:\n",
    "    print(\"The list contains less than two numbers.\")\n",
    "elif second_largest_number == float('-inf'):\n",
    "    print(\"There is no second largest number in the list.\")\n",
    "else:\n",
    "    print(f\"The second largest number in the list is {second_largest_number}.\")\n"
   ]
  },
  {
   "cell_type": "markdown",
   "id": "10964d7d",
   "metadata": {},
   "source": [
    "### 6. Write a Python program to find N largest elements from a list?"
   ]
  },
  {
   "cell_type": "code",
   "execution_count": null,
   "id": "93906fe9",
   "metadata": {},
   "outputs": [],
   "source": [
    "def find_n_largest_elements(lst, n):\n",
    "    if n <= 0:\n",
    "        return []\n",
    "    \n",
    "    lst.sort(reverse=True)\n",
    "    return lst[:n]\n",
    "\n",
    "# Get input from the user\n",
    "input_str = input(\"Enter a list of numbers separated by spaces: \")\n",
    "num_list = list(map(int, input_str.split()))\n",
    "\n",
    "n = int(input(\"Enter the value of N: \"))\n",
    "\n",
    "n_largest_elements = find_n_largest_elements(num_list, n)\n",
    "\n",
    "if not n_largest_elements:\n",
    "    print(\"Invalid value of N or an empty list.\")\n",
    "else:\n",
    "    print(f\"The {n} largest elements in the list are:\")\n",
    "    for num in n_largest_elements:\n",
    "        print(num)\n"
   ]
  },
  {
   "cell_type": "markdown",
   "id": "2f1a1e98",
   "metadata": {},
   "source": [
    "### 7. Write a Python program to print even numbers in a list?"
   ]
  },
  {
   "cell_type": "code",
   "execution_count": null,
   "id": "0ef41c54",
   "metadata": {},
   "outputs": [],
   "source": [
    "def print_even_numbers(lst):\n",
    "    for num in lst:\n",
    "        if num % 2 == 0:\n",
    "            print(num)\n",
    "\n",
    "# Get input from the user\n",
    "input_str = input(\"Enter a list of numbers separated by spaces: \")\n",
    "num_list = list(map(int, input_str.split()))\n",
    "\n",
    "print(\"Even numbers in the list:\")\n",
    "print_even_numbers(num_list)\n"
   ]
  },
  {
   "cell_type": "markdown",
   "id": "989bb324",
   "metadata": {},
   "source": [
    "### 8. Write a Python program to print odd numbers in a List?"
   ]
  },
  {
   "cell_type": "code",
   "execution_count": null,
   "id": "27515af7",
   "metadata": {},
   "outputs": [],
   "source": [
    "def print_odd_numbers(lst):\n",
    "    for num in lst:\n",
    "        if num % 2 != 0:\n",
    "            print(num)\n",
    "\n",
    "# Get input from the user\n",
    "input_str = input(\"Enter a list of numbers separated by spaces: \")\n",
    "num_list = list(map(int, input_str.split()))\n",
    "\n",
    "print(\"Odd numbers in the list:\")\n",
    "print_odd_numbers(num_list)\n"
   ]
  },
  {
   "cell_type": "markdown",
   "id": "185b7b13",
   "metadata": {},
   "source": [
    "### 9. Write a Python program to Remove empty List from List?"
   ]
  },
  {
   "cell_type": "code",
   "execution_count": null,
   "id": "a247215f",
   "metadata": {},
   "outputs": [],
   "source": [
    "def remove_empty_lists(lst):\n",
    "    return [sublist for sublist in lst if sublist]\n",
    "\n",
    "# Get input from the user\n",
    "input_str = input(\"Enter a list of lists: \")\n",
    "list_of_lists = eval(input_str)\n",
    "\n",
    "non_empty_lists = remove_empty_lists(list_of_lists)\n",
    "\n",
    "print(\"List after removing empty lists:\", non_empty_lists)\n"
   ]
  },
  {
   "cell_type": "markdown",
   "id": "278cfacc",
   "metadata": {},
   "source": [
    "### 10. Write a Python program to Cloning or Copying a list?"
   ]
  },
  {
   "cell_type": "code",
   "execution_count": null,
   "id": "2fd14aa5",
   "metadata": {},
   "outputs": [],
   "source": [
    "def clone_list(lst):\n",
    "    return lst.copy()\n",
    "\n",
    "# Get input from the user\n",
    "input_str = input(\"Enter a list of elements separated by spaces: \")\n",
    "original_list = input_str.split()\n",
    "\n",
    "cloned_list = clone_list(original_list)\n",
    "\n",
    "print(\"Original list:\", original_list)\n",
    "print(\"Cloned list:\", cloned_list)\n"
   ]
  },
  {
   "cell_type": "markdown",
   "id": "b359bedf",
   "metadata": {},
   "source": [
    "### 11. Write a Python program to Count occurrences of an element in a list?"
   ]
  },
  {
   "cell_type": "code",
   "execution_count": null,
   "id": "7194d3b0",
   "metadata": {},
   "outputs": [],
   "source": [
    "def count_occurrences(lst, element):\n",
    "    count = 0\n",
    "    for item in lst:\n",
    "        if item == element:\n",
    "            count += 1\n",
    "    return count\n",
    "\n",
    "# Get input from the user\n",
    "input_str = input(\"Enter a list of elements separated by spaces: \")\n",
    "num_list = input_str.split()\n",
    "\n",
    "element = input(\"Enter the element to count: \")\n",
    "\n",
    "occurrences = count_occurrences(num_list, element)\n",
    "\n",
    "print(f\"The element {element} appears {occurrences} times in the list.\")\n"
   ]
  }
 ],
 "metadata": {
  "kernelspec": {
   "display_name": "Python 3 (ipykernel)",
   "language": "python",
   "name": "python3"
  },
  "language_info": {
   "codemirror_mode": {
    "name": "ipython",
    "version": 3
   },
   "file_extension": ".py",
   "mimetype": "text/x-python",
   "name": "python",
   "nbconvert_exporter": "python",
   "pygments_lexer": "ipython3",
   "version": "3.9.12"
  }
 },
 "nbformat": 4,
 "nbformat_minor": 5
}
