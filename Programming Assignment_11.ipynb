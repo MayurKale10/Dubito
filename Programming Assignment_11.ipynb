{
 "cells": [
  {
   "cell_type": "markdown",
   "id": "53c7e882",
   "metadata": {},
   "source": [
    "# Python Basic Programming Assignment 11\n",
    "--------------------"
   ]
  },
  {
   "cell_type": "markdown",
   "id": "051da140",
   "metadata": {},
   "source": [
    "### 1. Write a Python program to find words which are greater than given length k?"
   ]
  },
  {
   "cell_type": "code",
   "execution_count": 1,
   "id": "8f54c371",
   "metadata": {},
   "outputs": [
    {
     "name": "stdout",
     "output_type": "stream",
     "text": [
      "Enter a list of words separated by spaces: 1 2 3\n",
      "Enter the value of k: 4\n",
      "Words greater than length 4:\n"
     ]
    }
   ],
   "source": [
    "def find_words_greater_than_length(word_list, k):\n",
    "    return [word for word in word_list if len(word) > k]\n",
    "\n",
    "# Get input from the user\n",
    "input_str = input(\"Enter a list of words separated by spaces: \")\n",
    "word_list = input_str.split()\n",
    "\n",
    "k = int(input(\"Enter the value of k: \"))\n",
    "\n",
    "result_words = find_words_greater_than_length(word_list, k)\n",
    "\n",
    "print(f\"Words greater than length {k}:\")\n",
    "for word in result_words:\n",
    "    print(word)\n"
   ]
  },
  {
   "cell_type": "markdown",
   "id": "26719cbd",
   "metadata": {},
   "source": [
    "### 2. Write a Python program for removing i-th character from a string?"
   ]
  },
  {
   "cell_type": "code",
   "execution_count": null,
   "id": "5abe8c4f",
   "metadata": {},
   "outputs": [],
   "source": [
    "def remove_character_at_index(input_str, index):\n",
    "    if 0 <= index < len(input_str):\n",
    "        new_str = input_str[:index] + input_str[index+1:]\n",
    "        return new_str\n",
    "    else:\n",
    "        return input_str\n",
    "\n",
    "# Get input from the user\n",
    "input_str = input(\"Enter a string: \")\n",
    "index = int(input(\"Enter the index of the character to remove: \"))\n",
    "\n",
    "new_string = remove_character_at_index(input_str, index)\n",
    "print(\"String after removing character:\", new_string)\n"
   ]
  },
  {
   "cell_type": "markdown",
   "id": "51ae6b0f",
   "metadata": {},
   "source": [
    "### 3. Write a Python program to split and join a string?"
   ]
  },
  {
   "cell_type": "code",
   "execution_count": null,
   "id": "54b47b9b",
   "metadata": {},
   "outputs": [],
   "source": [
    "def split_and_join(input_str, delimiter):\n",
    "    words = input_str.split(delimiter)\n",
    "    new_str = \" \".join(words)\n",
    "    return new_str\n",
    "\n",
    "# Get input from the user\n",
    "input_str = input(\"Enter a string: \")\n",
    "delimiter = input(\"Enter the delimiter: \")\n",
    "\n",
    "result_string = split_and_join(input_str, delimiter)\n",
    "print(\"String after splitting and joining:\", result_string)\n"
   ]
  },
  {
   "cell_type": "markdown",
   "id": "59079fe1",
   "metadata": {},
   "source": [
    "### 4. Write a Python to check if a given string is binary string or not?"
   ]
  },
  {
   "cell_type": "code",
   "execution_count": null,
   "id": "2d53ac33",
   "metadata": {},
   "outputs": [],
   "source": [
    "def is_binary_string(input_str):\n",
    "    for char in input_str:\n",
    "        if char != '0' and char != '1':\n",
    "            return False\n",
    "    return True\n",
    "\n",
    "# Get input from the user\n",
    "input_str = input(\"Enter a string: \")\n",
    "\n",
    "if is_binary_string(input_str):\n",
    "    print(\"The string is a binary string.\")\n",
    "else:\n",
    "    print(\"The string is not a binary string.\")\n"
   ]
  },
  {
   "cell_type": "markdown",
   "id": "4d6cf11a",
   "metadata": {},
   "source": [
    "### 5. Write a Python program to find uncommon words from two Strings?"
   ]
  },
  {
   "cell_type": "code",
   "execution_count": null,
   "id": "0ca44a48",
   "metadata": {},
   "outputs": [],
   "source": [
    "def find_uncommon_words(str1, str2):\n",
    "    words1 = set(str1.split())\n",
    "    words2 = set(str2.split())\n",
    "    \n",
    "    uncommon_words = words1.symmetric_difference(words2)\n",
    "    \n",
    "    return uncommon_words\n",
    "\n",
    "# Get input from the user\n",
    "str1 = input(\"Enter the first string: \")\n",
    "str2 = input(\"Enter the second string: \")\n",
    "\n",
    "uncommon_words = find_uncommon_words(str1, str2)\n",
    "\n",
    "print(\"Uncommon words between the two strings:\")\n",
    "for word in uncommon_words:\n",
    "    print(word)\n"
   ]
  },
  {
   "cell_type": "markdown",
   "id": "e2b24677",
   "metadata": {},
   "source": [
    "### 6. Write a Python to find all duplicate characters in string?"
   ]
  },
  {
   "cell_type": "code",
   "execution_count": null,
   "id": "4e12b1d0",
   "metadata": {},
   "outputs": [],
   "source": [
    "def find_duplicate_characters(input_str):\n",
    "    char_count = {}\n",
    "    duplicates = []\n",
    "\n",
    "    for char in input_str:\n",
    "        if char in char_count:\n",
    "            char_count[char] += 1\n",
    "        else:\n",
    "            char_count[char] = 1\n",
    "\n",
    "    for char, count in char_count.items():\n",
    "        if count > 1:\n",
    "            duplicates.append(char)\n",
    "\n",
    "    return duplicates\n",
    "\n",
    "# Get input from the user\n",
    "input_str = input(\"Enter a string: \")\n",
    "\n",
    "duplicate_chars = find_duplicate_characters(input_str)\n",
    "\n",
    "if duplicate_chars:\n",
    "    print(\"Duplicate characters in the string:\", ', '.join(duplicate_chars))\n",
    "else:\n",
    "    print(\"No duplicate characters found in the string.\")\n"
   ]
  },
  {
   "cell_type": "markdown",
   "id": "1a6af7e4",
   "metadata": {},
   "source": [
    "### 7. Write a Python Program to check if a string contains any special character?"
   ]
  },
  {
   "cell_type": "code",
   "execution_count": null,
   "id": "992a8761",
   "metadata": {},
   "outputs": [],
   "source": [
    "import string\n",
    "\n",
    "def contains_special_characters(input_str):\n",
    "    for char in input_str:\n",
    "        if char in string.punctuation:\n",
    "            return True\n",
    "    return False\n",
    "\n",
    "# Get input from the user\n",
    "input_str = input(\"Enter a string: \")\n",
    "\n",
    "if contains_special_characters(input_str):\n",
    "    print(\"The string contains special characters.\")\n",
    "else:\n",
    "    print(\"The string does not contain any special characters.\")\n"
   ]
  }
 ],
 "metadata": {
  "kernelspec": {
   "display_name": "Python 3 (ipykernel)",
   "language": "python",
   "name": "python3"
  },
  "language_info": {
   "codemirror_mode": {
    "name": "ipython",
    "version": 3
   },
   "file_extension": ".py",
   "mimetype": "text/x-python",
   "name": "python",
   "nbconvert_exporter": "python",
   "pygments_lexer": "ipython3",
   "version": "3.9.12"
  }
 },
 "nbformat": 4,
 "nbformat_minor": 5
}
